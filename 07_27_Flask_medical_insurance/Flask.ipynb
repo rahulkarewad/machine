{
 "cells": [
  {
   "cell_type": "markdown",
   "id": "825beaa3",
   "metadata": {},
   "source": [
    "## Data Science Project Steps"
   ]
  },
  {
   "cell_type": "code",
   "execution_count": null,
   "id": "8cce647f",
   "metadata": {},
   "outputs": [],
   "source": [
    "1. Problem Statement\n",
    "2. Data Gathering          >> Data Engineer\n",
    "3. Exploratory Data Analyis >> Data Analyst\n",
    "4. Data Wrangling\n",
    "5. Feature Engineering\n",
    "6. Feature Selection\n",
    "7. Model Training\n",
    "8. Model Evaluation         >> Data Scientist/ML Engineer\n",
    "9. Web Framework (API)      >> Python Developers\n",
    "10. User Interface          >> UI/UX Designer\n",
    "11. Deployement             >> DevOps/MLOps Engineer"
   ]
  },
  {
   "cell_type": "markdown",
   "id": "fe2d65e8",
   "metadata": {},
   "source": [
    "## Job Profiles"
   ]
  },
  {
   "cell_type": "code",
   "execution_count": null,
   "id": "1d5b8909",
   "metadata": {},
   "outputs": [],
   "source": [
    "Data Engineer\n",
    "Data Analyst\n",
    "Data Scientist/ML Engineer >> Backend Developers\n",
    "Python Developer           >> Backend/Frontend Developers\n",
    "UX Designer / Design\n",
    "UI Developer /Full stack Developer>> HTML, CSS, JS\n",
    "DevOps/MLOps Engineer"
   ]
  },
  {
   "cell_type": "markdown",
   "id": "bb9230ba",
   "metadata": {},
   "source": [
    "## Web Frameworks"
   ]
  },
  {
   "cell_type": "code",
   "execution_count": null,
   "id": "12a7c941",
   "metadata": {},
   "outputs": [],
   "source": [
    "1. Flask\n",
    "2. DJango\n",
    "3. FastAPI\n",
    "4. gRPC"
   ]
  },
  {
   "cell_type": "markdown",
   "id": "d8e7ffb6",
   "metadata": {},
   "source": [
    "## Flask"
   ]
  },
  {
   "cell_type": "code",
   "execution_count": null,
   "id": "79c648a5",
   "metadata": {},
   "outputs": [],
   "source": [
    "Python Web Framework\n",
    "\n",
    "UI >> User Interface\n",
    "API >> Application Programming Interface\n",
    "\n",
    "POSTMAN >> Used to test the APIs\n",
    "\n",
    "Homepage >> https://www.cognizant.com/in/en\n",
    "Careers API >> https://careers.cognizant.com/global/en\n",
    "    \n",
    "Homepage >> https://zeenews.india.com/\n",
    "Business API >> https://zeenews.india.com/business\n",
    "    \n",
    "WSGI >> Web Server Gateway Interface\n",
    "    \n",
    "API File Names:\n",
    "    run.py\n",
    "    interface.py\n",
    "    wsgi.py\n",
    "    main.py\n",
    "    views.py"
   ]
  },
  {
   "cell_type": "code",
   "execution_count": null,
   "id": "c70b8aaf",
   "metadata": {},
   "outputs": [],
   "source": [
    "pip install flask\n",
    "conda install flask\n",
    "\n",
    "http >> Hypertext Transfer Protocol\n",
    "https >> Hypertext Transfer Protocol Secure(Secured Layer)\n",
    "SSL Certificate >> Secure Socket Layer\n",
    "\n",
    "http://localhost:8888/notebooks/Flask.ipynb\n",
    "http://127.0.0.1:8888/"
   ]
  },
  {
   "cell_type": "code",
   "execution_count": 2,
   "id": "0d2b4438",
   "metadata": {},
   "outputs": [],
   "source": [
    "import flask"
   ]
  },
  {
   "cell_type": "code",
   "execution_count": null,
   "id": "a82b69e8",
   "metadata": {},
   "outputs": [],
   "source": [
    "Input Data: ImmutableMultiDict([('a', '100'), ('b', '20')])"
   ]
  },
  {
   "cell_type": "code",
   "execution_count": 2,
   "id": "52fa7f46",
   "metadata": {},
   "outputs": [
    {
     "data": {
      "text/plain": [
       "'100'"
      ]
     },
     "execution_count": 2,
     "metadata": {},
     "output_type": "execute_result"
    }
   ],
   "source": [
    "input_data = dict([('a', '100'), ('b', '20')])\n",
    "input_data['a']"
   ]
  },
  {
   "cell_type": "code",
   "execution_count": 3,
   "id": "7616016f",
   "metadata": {},
   "outputs": [
    {
     "data": {
      "text/plain": [
       "100"
      ]
     },
     "execution_count": 3,
     "metadata": {},
     "output_type": "execute_result"
    }
   ],
   "source": [
    "eval(input_data['a'])"
   ]
  },
  {
   "cell_type": "code",
   "execution_count": 5,
   "id": "1725c866",
   "metadata": {},
   "outputs": [
    {
     "data": {
      "text/plain": [
       "100"
      ]
     },
     "execution_count": 5,
     "metadata": {},
     "output_type": "execute_result"
    }
   ],
   "source": [
    "eval('100')"
   ]
  },
  {
   "cell_type": "code",
   "execution_count": 6,
   "id": "3e755936",
   "metadata": {},
   "outputs": [
    {
     "data": {
      "text/plain": [
       "100"
      ]
     },
     "execution_count": 6,
     "metadata": {},
     "output_type": "execute_result"
    }
   ],
   "source": [
    "int(100)"
   ]
  },
  {
   "cell_type": "code",
   "execution_count": 4,
   "id": "67c281e7",
   "metadata": {},
   "outputs": [
    {
     "ename": "TypeError",
     "evalue": "eval() arg 1 must be a string, bytes or code object",
     "output_type": "error",
     "traceback": [
      "\u001b[1;31m---------------------------------------------------------------------------\u001b[0m",
      "\u001b[1;31mTypeError\u001b[0m                                 Traceback (most recent call last)",
      "Input \u001b[1;32mIn [4]\u001b[0m, in \u001b[0;36m<cell line: 1>\u001b[1;34m()\u001b[0m\n\u001b[1;32m----> 1\u001b[0m \u001b[38;5;28;43meval\u001b[39;49m\u001b[43m(\u001b[49m\u001b[38;5;241;43m100\u001b[39;49m\u001b[43m)\u001b[49m\n",
      "\u001b[1;31mTypeError\u001b[0m: eval() arg 1 must be a string, bytes or code object"
     ]
    }
   ],
   "source": [
    "eval(100)"
   ]
  },
  {
   "cell_type": "code",
   "execution_count": null,
   "id": "b1684c83",
   "metadata": {},
   "outputs": [],
   "source": [
    "TypeError: eval() arg 1 must be a string, bytes or code object"
   ]
  },
  {
   "cell_type": "code",
   "execution_count": null,
   "id": "d21c358b",
   "metadata": {},
   "outputs": [],
   "source": [
    "https://restfulapi.net/http-status-codes/"
   ]
  },
  {
   "cell_type": "code",
   "execution_count": null,
   "id": "3fc26017",
   "metadata": {},
   "outputs": [],
   "source": []
  },
  {
   "cell_type": "code",
   "execution_count": null,
   "id": "fa0b19d3",
   "metadata": {},
   "outputs": [],
   "source": []
  },
  {
   "cell_type": "code",
   "execution_count": null,
   "id": "8add47ff",
   "metadata": {},
   "outputs": [],
   "source": []
  },
  {
   "cell_type": "code",
   "execution_count": null,
   "id": "33fac834",
   "metadata": {},
   "outputs": [],
   "source": []
  },
  {
   "cell_type": "code",
   "execution_count": null,
   "id": "fe0581f7",
   "metadata": {},
   "outputs": [],
   "source": []
  },
  {
   "cell_type": "code",
   "execution_count": null,
   "id": "753c630e",
   "metadata": {},
   "outputs": [],
   "source": []
  },
  {
   "cell_type": "code",
   "execution_count": null,
   "id": "fbeaf00a",
   "metadata": {},
   "outputs": [],
   "source": []
  },
  {
   "cell_type": "code",
   "execution_count": null,
   "id": "be401c41",
   "metadata": {},
   "outputs": [],
   "source": []
  },
  {
   "cell_type": "code",
   "execution_count": null,
   "id": "2ff5bf05",
   "metadata": {},
   "outputs": [],
   "source": []
  },
  {
   "cell_type": "code",
   "execution_count": null,
   "id": "98cf4f93",
   "metadata": {},
   "outputs": [],
   "source": []
  }
 ],
 "metadata": {
  "kernelspec": {
   "display_name": "Python 3 (ipykernel)",
   "language": "python",
   "name": "python3"
  },
  "language_info": {
   "codemirror_mode": {
    "name": "ipython",
    "version": 3
   },
   "file_extension": ".py",
   "mimetype": "text/x-python",
   "name": "python",
   "nbconvert_exporter": "python",
   "pygments_lexer": "ipython3",
   "version": "3.10.6"
  }
 },
 "nbformat": 4,
 "nbformat_minor": 5
}
